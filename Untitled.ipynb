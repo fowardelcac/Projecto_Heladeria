{
 "cells": [
  {
   "cell_type": "code",
   "execution_count": 1,
   "id": "6405ee10",
   "metadata": {},
   "outputs": [],
   "source": [
    "import pandas as pd\n",
    "import matplotlib.pyplot as plt"
   ]
  },
  {
   "cell_type": "code",
   "execution_count": 4,
   "id": "5e0097f2",
   "metadata": {},
   "outputs": [
    {
     "data": {
      "text/html": [
       "<div>\n",
       "<style scoped>\n",
       "    .dataframe tbody tr th:only-of-type {\n",
       "        vertical-align: middle;\n",
       "    }\n",
       "\n",
       "    .dataframe tbody tr th {\n",
       "        vertical-align: top;\n",
       "    }\n",
       "\n",
       "    .dataframe thead th {\n",
       "        text-align: right;\n",
       "    }\n",
       "</style>\n",
       "<table border=\"1\" class=\"dataframe\">\n",
       "  <thead>\n",
       "    <tr style=\"text-align: right;\">\n",
       "      <th></th>\n",
       "      <th>AMERICANA</th>\n",
       "      <th>AMERICANA LIGTH</th>\n",
       "      <th>ANANA</th>\n",
       "      <th>BANANA SPLIT</th>\n",
       "      <th>BANANITA DOLCA</th>\n",
       "      <th>CEREZA</th>\n",
       "      <th>CHEESSECAKE MARACUYA</th>\n",
       "      <th>CH AMARGO</th>\n",
       "      <th>CH BLANCO</th>\n",
       "      <th>CH CHUII</th>\n",
       "      <th>...</th>\n",
       "      <th>SAMBAYON</th>\n",
       "      <th>TIRAMISU</th>\n",
       "      <th>TRAMONTANA</th>\n",
       "      <th>VAINILLA</th>\n",
       "      <th>VAINILLA NUTTY</th>\n",
       "      <th>CHOCOTORTA</th>\n",
       "      <th>FRAMBUESA</th>\n",
       "      <th>CHOCOLATE SHOT</th>\n",
       "      <th>DULCE DE LECHE LIGTH</th>\n",
       "      <th>VAINILLA   LIGTH</th>\n",
       "    </tr>\n",
       "    <tr>\n",
       "      <th>Fecha</th>\n",
       "      <th></th>\n",
       "      <th></th>\n",
       "      <th></th>\n",
       "      <th></th>\n",
       "      <th></th>\n",
       "      <th></th>\n",
       "      <th></th>\n",
       "      <th></th>\n",
       "      <th></th>\n",
       "      <th></th>\n",
       "      <th></th>\n",
       "      <th></th>\n",
       "      <th></th>\n",
       "      <th></th>\n",
       "      <th></th>\n",
       "      <th></th>\n",
       "      <th></th>\n",
       "      <th></th>\n",
       "      <th></th>\n",
       "      <th></th>\n",
       "      <th></th>\n",
       "    </tr>\n",
       "  </thead>\n",
       "  <tbody>\n",
       "    <tr>\n",
       "      <th>2023-01-09</th>\n",
       "      <td>9.695</td>\n",
       "      <td>1.115</td>\n",
       "      <td>2.835</td>\n",
       "      <td>8.320</td>\n",
       "      <td>8.600</td>\n",
       "      <td>7.760</td>\n",
       "      <td>11.675</td>\n",
       "      <td>6.620</td>\n",
       "      <td>9.945</td>\n",
       "      <td>8.620</td>\n",
       "      <td>...</td>\n",
       "      <td>2.730</td>\n",
       "      <td>5.475</td>\n",
       "      <td>13.720</td>\n",
       "      <td>6.595</td>\n",
       "      <td>9.500</td>\n",
       "      <td>8.825</td>\n",
       "      <td>6.610</td>\n",
       "      <td>7.145</td>\n",
       "      <td>2.23</td>\n",
       "      <td>2.420</td>\n",
       "    </tr>\n",
       "    <tr>\n",
       "      <th>2023-01-16</th>\n",
       "      <td>2.125</td>\n",
       "      <td>3.480</td>\n",
       "      <td>6.425</td>\n",
       "      <td>3.605</td>\n",
       "      <td>4.825</td>\n",
       "      <td>4.340</td>\n",
       "      <td>5.760</td>\n",
       "      <td>9.065</td>\n",
       "      <td>6.235</td>\n",
       "      <td>9.605</td>\n",
       "      <td>...</td>\n",
       "      <td>8.745</td>\n",
       "      <td>7.895</td>\n",
       "      <td>5.600</td>\n",
       "      <td>10.330</td>\n",
       "      <td>6.055</td>\n",
       "      <td>4.720</td>\n",
       "      <td>3.050</td>\n",
       "      <td>5.655</td>\n",
       "      <td>2.06</td>\n",
       "      <td>2.420</td>\n",
       "    </tr>\n",
       "    <tr>\n",
       "      <th>2023-01-22</th>\n",
       "      <td>10.175</td>\n",
       "      <td>1.480</td>\n",
       "      <td>3.955</td>\n",
       "      <td>8.015</td>\n",
       "      <td>3.645</td>\n",
       "      <td>9.035</td>\n",
       "      <td>2.510</td>\n",
       "      <td>3.205</td>\n",
       "      <td>2.825</td>\n",
       "      <td>13.590</td>\n",
       "      <td>...</td>\n",
       "      <td>6.015</td>\n",
       "      <td>4.175</td>\n",
       "      <td>4.595</td>\n",
       "      <td>8.990</td>\n",
       "      <td>3.710</td>\n",
       "      <td>8.480</td>\n",
       "      <td>12.445</td>\n",
       "      <td>5.255</td>\n",
       "      <td>1.28</td>\n",
       "      <td>2.190</td>\n",
       "    </tr>\n",
       "    <tr>\n",
       "      <th>2023-01-30</th>\n",
       "      <td>5.785</td>\n",
       "      <td>2.800</td>\n",
       "      <td>8.450</td>\n",
       "      <td>2.960</td>\n",
       "      <td>7.465</td>\n",
       "      <td>6.240</td>\n",
       "      <td>3.765</td>\n",
       "      <td>7.250</td>\n",
       "      <td>7.445</td>\n",
       "      <td>8.420</td>\n",
       "      <td>...</td>\n",
       "      <td>3.750</td>\n",
       "      <td>7.605</td>\n",
       "      <td>5.340</td>\n",
       "      <td>5.915</td>\n",
       "      <td>8.655</td>\n",
       "      <td>4.395</td>\n",
       "      <td>10.320</td>\n",
       "      <td>3.950</td>\n",
       "      <td>1.12</td>\n",
       "      <td>2.180</td>\n",
       "    </tr>\n",
       "    <tr>\n",
       "      <th>2023-02-05</th>\n",
       "      <td>11.145</td>\n",
       "      <td>0.000</td>\n",
       "      <td>5.935</td>\n",
       "      <td>6.755</td>\n",
       "      <td>3.370</td>\n",
       "      <td>2.670</td>\n",
       "      <td>4.880</td>\n",
       "      <td>10.210</td>\n",
       "      <td>4.110</td>\n",
       "      <td>17.245</td>\n",
       "      <td>...</td>\n",
       "      <td>8.140</td>\n",
       "      <td>2.985</td>\n",
       "      <td>12.250</td>\n",
       "      <td>12.325</td>\n",
       "      <td>6.970</td>\n",
       "      <td>8.665</td>\n",
       "      <td>6.840</td>\n",
       "      <td>8.410</td>\n",
       "      <td>4.64</td>\n",
       "      <td>1.945</td>\n",
       "    </tr>\n",
       "  </tbody>\n",
       "</table>\n",
       "<p>5 rows × 53 columns</p>\n",
       "</div>"
      ],
      "text/plain": [
       "            AMERICANA  AMERICANA LIGTH  ANANA  BANANA SPLIT  BANANITA DOLCA  \\\n",
       "Fecha                                                                         \n",
       "2023-01-09      9.695            1.115  2.835         8.320           8.600   \n",
       "2023-01-16      2.125            3.480  6.425         3.605           4.825   \n",
       "2023-01-22     10.175            1.480  3.955         8.015           3.645   \n",
       "2023-01-30      5.785            2.800  8.450         2.960           7.465   \n",
       "2023-02-05     11.145            0.000  5.935         6.755           3.370   \n",
       "\n",
       "            CEREZA  CHEESSECAKE MARACUYA  CH AMARGO  CH BLANCO  CH CHUII  ...  \\\n",
       "Fecha                                                                     ...   \n",
       "2023-01-09   7.760                11.675      6.620      9.945     8.620  ...   \n",
       "2023-01-16   4.340                 5.760      9.065      6.235     9.605  ...   \n",
       "2023-01-22   9.035                 2.510      3.205      2.825    13.590  ...   \n",
       "2023-01-30   6.240                 3.765      7.250      7.445     8.420  ...   \n",
       "2023-02-05   2.670                 4.880     10.210      4.110    17.245  ...   \n",
       "\n",
       "            SAMBAYON  TIRAMISU  TRAMONTANA  VAINILLA  VAINILLA NUTTY  \\\n",
       "Fecha                                                                  \n",
       "2023-01-09     2.730     5.475      13.720     6.595           9.500   \n",
       "2023-01-16     8.745     7.895       5.600    10.330           6.055   \n",
       "2023-01-22     6.015     4.175       4.595     8.990           3.710   \n",
       "2023-01-30     3.750     7.605       5.340     5.915           8.655   \n",
       "2023-02-05     8.140     2.985      12.250    12.325           6.970   \n",
       "\n",
       "            CHOCOTORTA  FRAMBUESA   CHOCOLATE SHOT  DULCE DE LECHE LIGTH  \\\n",
       "Fecha                                                                      \n",
       "2023-01-09       8.825       6.610           7.145                  2.23   \n",
       "2023-01-16       4.720       3.050           5.655                  2.06   \n",
       "2023-01-22       8.480      12.445           5.255                  1.28   \n",
       "2023-01-30       4.395      10.320           3.950                  1.12   \n",
       "2023-02-05       8.665       6.840           8.410                  4.64   \n",
       "\n",
       "            VAINILLA   LIGTH  \n",
       "Fecha                         \n",
       "2023-01-09             2.420  \n",
       "2023-01-16             2.420  \n",
       "2023-01-22             2.190  \n",
       "2023-01-30             2.180  \n",
       "2023-02-05             1.945  \n",
       "\n",
       "[5 rows x 53 columns]"
      ]
     },
     "execution_count": 4,
     "metadata": {},
     "output_type": "execute_result"
    }
   ],
   "source": [
    "df = pd.read_excel(\"VentasTabla.xlsx\").set_index(\"Fecha\")\n",
    "df.tail()"
   ]
  },
  {
   "cell_type": "code",
   "execution_count": 10,
   "id": "af0c7f61",
   "metadata": {},
   "outputs": [],
   "source": [
    "def barras(x, y, titulo):\n",
    "    fig = plt.figure(figsize=(12, 6))\n",
    "    plt.title(titulo)\n",
    "    plt.bar(x, y)\n",
    "\n",
    "def analizar(fecha):\n",
    "    return df.loc[fecha].to_frame()\n",
    "\n",
    "def sort(data, by, ascending):\n",
    "    return data.sort_values(by = by, ascending = ascending)"
   ]
  },
  {
   "cell_type": "code",
   "execution_count": 8,
   "id": "46931de5",
   "metadata": {},
   "outputs": [],
   "source": [
    "fecha = '2023-02-05'"
   ]
  },
  {
   "cell_type": "code",
   "execution_count": 12,
   "id": "b334f602",
   "metadata": {},
   "outputs": [
    {
     "data": {
      "image/png": "[encoded data removed]",
      "text/plain": [
       "<Figure size 1200x600 with 1 Axes>"
      ]
     },
     "metadata": {},
     "output_type": "display_data"
    }
   ],
   "source": [
    "data = analizar(fecha)\n",
    "tp_f = sort(data, fecha, False).head()\n",
    "barras(tp_f.index, tp_f[fecha], \"Los cinco helados mas vendidos en KG.\")"
   ]
  },
  {
   "cell_type": "code",
   "execution_count": 20,
   "id": "75ea266b",
   "metadata": {},
   "outputs": [
    {
     "data": {
      "image/png": "[encoded data removed]",
      "text/plain": [
       "<Figure size 1200x600 with 1 Axes>"
      ]
     },
     "metadata": {},
     "output_type": "display_data"
    }
   ],
   "source": [
    "tp_f = sort(data, fecha, True)\n",
    "tp_f.drop(['DOLCE DE LA NONA', 'MOUSSE MARACUYA'], inplace=True)\n",
    "tp_f = tp_f.head()\n",
    "barras(tp_f.index, tp_f[fecha], \"Los cinco helados menos vendidos en KG.\")"
   ]
  },
  {
   "cell_type": "code",
   "execution_count": 21,
   "id": "d95129fb",
   "metadata": {},
   "outputs": [
    {
     "name": "stdout",
     "output_type": "stream",
     "text": [
      "Ventas medias: 7.398490566037736\n",
      "Cantidad maxima: 17.245 y minima vendida: 0.0\n",
      "Ventas totales: 392.12\n"
     ]
    }
   ],
   "source": [
    "print(\"Ventas medias:\", data[fecha].mean())\n",
    "print(f\"Cantidad maxima: {data[fecha].max()} y minima vendida: {data[fecha].min()}\")\n",
    "print(\"Ventas totales:\", data[fecha].sum())"
   ]
  },
  {
   "cell_type": "code",
   "execution_count": 26,
   "id": "04aeb4c5",
   "metadata": {},
   "outputs": [
    {
     "data": {
      "text/plain": [
       "6.2475000000000005"
      ]
     },
     "execution_count": 26,
     "metadata": {},
     "output_type": "execute_result"
    }
   ],
   "source": [
    "df.AMERICANA.median()"
   ]
  },
  {
   "cell_type": "code",
   "execution_count": 41,
   "id": "6ecd0991",
   "metadata": {},
   "outputs": [
    {
     "data": {
      "text/plain": [
       "177.67054054054051"
      ]
     },
     "execution_count": 41,
     "metadata": {},
     "output_type": "execute_result"
    }
   ],
   "source": [
    "df['CH AMARGO'].mean()"
   ]
  },
  {
   "cell_type": "code",
   "execution_count": 42,
   "id": "76aeb8f7",
   "metadata": {},
   "outputs": [
    {
     "data": {
      "text/plain": [
       "<AxesSubplot: >"
      ]
     },
     "execution_count": 42,
     "metadata": {},
     "output_type": "execute_result"
    },
    {
     "data": {
      "image/png": "[encoded data removed]",
      "text/plain": [
       "<Figure size 640x480 with 1 Axes>"
      ]
     },
     "metadata": {},
     "output_type": "display_data"
    }
   ],
   "source": [
    "df['CH AMARGO'].hist()"
   ]
  },
  {
   "cell_type": "code",
   "execution_count": 36,
   "id": "2723dc7c",
   "metadata": {},
   "outputs": [
    {
     "data": {
      "text/plain": [
       "AMERICANA                 6.68\n",
       "AMERICANA LIGTH           3.08\n",
       "ANANA                   131.69\n",
       "BANANA SPLIT             60.48\n",
       "BANANITA DOLCA          163.12\n",
       "CEREZA                  126.93\n",
       "CHEESSECAKE MARACUYA    140.11\n",
       "CH AMARGO               177.67\n",
       "CH BLANCO                86.99\n",
       "CH CHUII                104.70\n",
       "CHOCOLATE               139.95\n",
       "CH CON ALMENDRAS        187.27\n",
       "CH LIGTH                 32.62\n",
       "CH ROCHER               103.22\n",
       "CH SUIZO                127.04\n",
       "COCO C DL                87.42\n",
       "COOKIES                 109.66\n",
       "CREMA IRLANDESA          62.15\n",
       "DOLCE DE LA NONA         27.93\n",
       "DL                      101.66\n",
       "DL CHUII                154.85\n",
       "DL CON BROWNIES         132.60\n",
       "DL con NUEZ             181.97\n",
       "DL GRANIZADO            193.85\n",
       "DURAZNO                  87.72\n",
       "FLAN C DL                48.96\n",
       "FRUTILLA                185.47\n",
       "FRUTOS DEL BOSQUE       118.06\n",
       "GRANIZADO               176.62\n",
       "KINDER                  142.54\n",
       "LIMON                   172.90\n",
       "MANDARINA               131.27\n",
       "MANTECOL                101.81\n",
       "MASC FRUTOSROJOS        138.00\n",
       "MENTA GRANIZADA         162.12\n",
       "MOUSE DE CH             178.99\n",
       "MOUSSE DE LIMON          75.63\n",
       "MOUSSE MARACUYA          87.18\n",
       "PERA                     73.48\n",
       "PISTACHO                 91.11\n",
       "QUINOTOS                105.55\n",
       "RUSA                     21.71\n",
       "POMELO                   92.21\n",
       "SAMBAYON                140.93\n",
       "TIRAMISU                  6.29\n",
       "TRAMONTANA                9.33\n",
       "VAINILLA                 41.83\n",
       "VAINILLA NUTTY          140.70\n",
       "CHOCOTORTA                3.67\n",
       "FRAMBUESA                66.41\n",
       "CHOCOLATE SHOT           92.08\n",
       "DULCE DE LECHE LIGTH      0.73\n",
       "VAINILLA   LIGTH          0.68\n",
       "dtype: float64"
      ]
     },
     "execution_count": 36,
     "metadata": {},
     "output_type": "execute_result"
    }
   ],
   "source": [
    "df.mean().round(2)"
   ]
  }
 ],
 "metadata": {
  "kernelspec": {
   "display_name": "jc",
   "language": "python",
   "name": "jc"
  },
  "language_info": {
   "codemirror_mode": {
    "name": "ipython",
    "version": 3
   },
   "file_extension": ".py",
   "mimetype": "text/x-python",
   "name": "python",
   "nbconvert_exporter": "python",
   "pygments_lexer": "ipython3",
   "version": "3.10.9"
  }
 },
 "nbformat": 4,
 "nbformat_minor": 5
}
